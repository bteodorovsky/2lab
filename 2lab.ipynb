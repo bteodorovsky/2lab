{
 "cells": [
  {
   "cell_type": "code",
   "execution_count": 1,
   "metadata": {},
   "outputs": [
    {
     "ename": "SyntaxError",
     "evalue": "unterminated string literal (detected at line 79) (1474986316.py, line 79)",
     "output_type": "error",
     "traceback": [
      "\u001b[1;36m  Cell \u001b[1;32mIn[1], line 79\u001b[1;36m\u001b[0m\n\u001b[1;33m    Число є від'ємним\u001b[0m\n\u001b[1;37m               ^\u001b[0m\n\u001b[1;31mSyntaxError\u001b[0m\u001b[1;31m:\u001b[0m unterminated string literal (detected at line 79)\n"
     ]
    }
   ],
   "source": [
    "# Звіт до роботи\n",
    "## Тема: Основи програмування на Python\n",
    "### Мета роботи: Вивчити основні конструкції в Python\n",
    "---\n",
    "### Виконання роботи\n",
    "- Результати виконання завдання 1;\n",
    "    i. Попракитикувався з простими змінними, списками list, наборами set та словниками dict:\n",
    "    my_list = [1, 2, 3, 4, 5]\n",
    "    print (my_list)\n",
    "    my_set = {1, 2, 3}\n",
    "    my_set.add(4)\n",
    "    print(my_set)\n",
    "    ii. Виведів вбудовані константи:\n",
    "    print(\"Константа нуля:\", 0)\n",
    "    print(\"Константа значення True:\", True)\n",
    "    iii. Вивів результат роботи вбудованих функцій:\n",
    "    lst = [1, 2, 3, 4, 5]\n",
    "    print(len(lst))\n",
    "    print(round(2.1941, 2)) \n",
    "    iv. Познайомився з циклами. Написав код який демонструє роботу циклів:\n",
    "    for i in range(1, 5):\n",
    "    print(i)\n",
    "    fruits = [\"apple\", \"banana\", \"cherry\"]\n",
    "    for fruit in fruits:\n",
    "    print(fruit)\n",
    "    v. Познайомився з розгалуженнями:\n",
    "    num = -10\n",
    "    if num > 0:\n",
    "    print(\"Число є додатнім\")\n",
    "    elif num == 0:\n",
    "    print(\"Число дорівнює нулю\")\n",
    "    else:\n",
    "    print(\"Число є від'ємним\")\n",
    "    x = 5\n",
    "    y = 10\n",
    "    result = x < y\n",
    "    print(result)\n",
    "    vi. Написав свій варіант коду з помилкою:\n",
    "    a = 10\n",
    "    b = 0\n",
    "    try:\n",
    "    c = a / b\n",
    "    print(c)\n",
    "    except:\n",
    "    print(\"Помилка: Ділення на нуль!\")\n",
    "    finally:\n",
    "    print(\"Кінець програми\")\n",
    "    vii. Контекст-менеджер with:\n",
    "    with open(\"file.txt\", \"w\") as f:\n",
    "    f.write(\"Hello, World!\")\n",
    "    viii. Познайомився з Python lambdas:\n",
    "    square = lambda x: x**2\n",
    "    print(square(5))\n",
    "\n",
    "- вставлені рисунки (скріншоти екрана або фотографії виконаного завдання у зошиті);\n",
    "\n",
    "![alt text](https://github.com/BobasB/it_college/raw/main/reports/pictures/logo-lit.jpg \"ІТ Коледж\")\n",
    "\n",
    "- вставлений код / текстовий або числовий результат / інші результати:\n",
    "Результати:\n",
    "i.\n",
    "[1, 2, 3, 4, 5]\n",
    "{1, 2, 3, 4}\n",
    "ii.\n",
    "Константа нуля: 0\n",
    "Константа значення True: True\n",
    "iii.\n",
    "5\n",
    "2.19\n",
    "iv.\n",
    "1\n",
    "2\n",
    "3\n",
    "4\n",
    "apple\n",
    "banana\n",
    "cherry\n",
    "v.\n",
    "Число є від'ємним\n",
    "True\n",
    "vi.\n",
    "Помилка: Ділення на нуль!\n",
    "Кінець програми\n",
    "vii.\n",
    "viii.\n",
    "25\n",
    "### Висновок: Завдяки цій програмі я оволодів основами програмування на Python"
   ]
  }
 ],
 "metadata": {
  "kernelspec": {
   "display_name": "Python 3",
   "language": "python",
   "name": "python3"
  },
  "language_info": {
   "codemirror_mode": {
    "name": "ipython",
    "version": 3
   },
   "file_extension": ".py",
   "mimetype": "text/x-python",
   "name": "python",
   "nbconvert_exporter": "python",
   "pygments_lexer": "ipython3",
   "version": "3.10.4"
  },
  "orig_nbformat": 4,
  "vscode": {
   "interpreter": {
    "hash": "acc0dcb458adea865fa90ce4f43fb3956ae49c60606d0d549bfdeff9ec2bcd00"
   }
  }
 },
 "nbformat": 4,
 "nbformat_minor": 2
}
